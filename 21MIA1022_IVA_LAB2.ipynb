{
 "cells": [
  {
   "cell_type": "markdown",
   "id": "3da3842c-9b57-4315-905a-afbaac0361d2",
   "metadata": {},
   "source": [
    "# Name: Shalini Banerjee\n",
    "# Reg No.: 21MIA1022"
   ]
  },
  {
   "cell_type": "markdown",
   "id": "29345438-3ba7-4ecd-8c36-136e2884d58c",
   "metadata": {},
   "source": [
    "# Lab Task 1: Setup and Basic Extraction"
   ]
  },
  {
   "cell_type": "markdown",
   "id": "5c0ebddc-a234-48f0-8c1c-27cf49aebfd6",
   "metadata": {},
   "source": [
    "### **Objective**: Install the necessary tools and libraries, and extract frame information from a video."
   ]
  },
  {
   "cell_type": "markdown",
   "id": "af3701e7-895c-448f-b9e1-d1264d68c55f",
   "metadata": {},
   "source": [
    "### Steps:\n",
    "#### 1.\tInstall ffmpeg and ffmpeg-python:\n",
    "#### o\tInstall the ffmpeg tool and the ffmpeg-python library."
   ]
  },
  {
   "cell_type": "code",
   "execution_count": 12,
   "id": "0264447d-941d-465d-a9b9-60b6ddf12958",
   "metadata": {},
   "outputs": [],
   "source": [
    "#pip install ffmpeg-python\n",
    "import ffmpeg"
   ]
  },
  {
   "cell_type": "markdown",
   "id": "3350eb9b-81fb-441b-9238-a74069b04303",
   "metadata": {},
   "source": [
    "#### 2.\tExtract Frame Information:\n",
    "#### o\tExtract frame information from a sample video."
   ]
  },
  {
   "cell_type": "code",
   "execution_count": 49,
   "id": "3d52d23d-0a07-4c0a-98ee-f0d559381114",
   "metadata": {},
   "outputs": [
    {
     "name": "stdout",
     "output_type": "stream",
     "text": [
      "Frame Rate: 29.97002997002997 fps\n",
      "Number of Frames: 1109\n",
      "Duration: 37.003633 seconds\n",
      "Resolution: 640x360\n",
      "Frame Information extracted successfully.\n"
     ]
    }
   ],
   "source": [
    "def extract_frame_info(video_path):\n",
    "    try:\n",
    "        # Getting the video information\n",
    "        probe = ffmpeg.probe(video_path)\n",
    "        video_info = next(stream for stream in probe['streams'] if stream['codec_type'] == 'video')\n",
    "        # Extracting the frame rate, the number of frames, duration, width, and height\n",
    "        frame_rate = eval(video_info['r_frame_rate'])\n",
    "        num_frames = int(video_info['nb_frames'])\n",
    "        duration = float(video_info['duration'])\n",
    "        width = int(video_info['width'])\n",
    "        height = int(video_info['height'])\n",
    "        print(f\"Frame Rate: {frame_rate} fps\")\n",
    "        print(f\"Number of Frames: {num_frames}\")\n",
    "        print(f\"Duration: {duration} seconds\")\n",
    "        print(f\"Resolution: {width}x{height}\")\n",
    "        return {\n",
    "            \"frame_rate\": frame_rate,\n",
    "            \"num_frames\": num_frames,\n",
    "            \"duration\": duration,\n",
    "            \"resolution\": (width, height)\n",
    "        }\n",
    "    except ffmpeg.Error as e:\n",
    "        print(\"An error occurred while processing the video:\", e.stderr.decode())\n",
    "        return None\n",
    "        \n",
    "# Extracting the frame information\n",
    "frame_info = extract_frame_info(r\"D:\\college - sem 7\\iva\\videoplayback.mp4\")\n",
    "if frame_info:\n",
    "    print(\"Frame Information extracted successfully.\")"
   ]
  },
  {
   "cell_type": "markdown",
   "id": "67c4f630-2e9c-484e-9d50-4e5aa9ceab73",
   "metadata": {},
   "source": [
    "# Lab Task 2: Frame Type Analysis"
   ]
  },
  {
   "cell_type": "markdown",
   "id": "455d03f3-dcde-427f-be33-54fe977b74c7",
   "metadata": {},
   "source": [
    "### **Objective**: Analyze the extracted frame information to understand the distribution of I, P, and B frames in a video."
   ]
  },
  {
   "cell_type": "markdown",
   "id": "d947c3a9-4890-43ec-8582-6e93fe311364",
   "metadata": {},
   "source": [
    "### Steps:\n",
    "#### 1.\tModify the Script:\n",
    "#### o\tCount the number of I, P, and B frames.\n",
    "#### o\tCalculate the percentage of each frame type in the video."
   ]
  },
  {
   "cell_type": "code",
   "execution_count": 55,
   "id": "91b5b8f4-9e22-4c59-be12-f99e422da5de",
   "metadata": {},
   "outputs": [
    {
     "name": "stdout",
     "output_type": "stream",
     "text": [
      "{'I_frames': 9, 'P_frames': 1100, 'B_frames': 0, 'I_percentage': 0.8115419296663661, 'P_percentage': 99.18845807033362, 'B_percentage': 0.0}\n"
     ]
    }
   ],
   "source": [
    "import ffmpeg\n",
    "import re\n",
    "\n",
    "def count_frames(video_path):\n",
    "    # Run ffmpeg command to get frame types\n",
    "    result = ffmpeg.probe(video_path, select_streams='v', show_frames=None)\n",
    "    frames = result['frames']\n",
    "\n",
    "    # Initialize counters\n",
    "    i_frames = 0\n",
    "    p_frames = 0\n",
    "    b_frames = 0\n",
    "\n",
    "    # Count frames\n",
    "    for frame in frames:\n",
    "        if frame['pict_type'] == 'I':\n",
    "            i_frames += 1\n",
    "        elif frame['pict_type'] == 'P':\n",
    "            p_frames += 1\n",
    "        elif frame['pict_type'] == 'B':\n",
    "            b_frames += 1\n",
    "\n",
    "    # Calculate total frames and percentages\n",
    "    total_frames = i_frames + p_frames + b_frames\n",
    "    i_percentage = (i_frames / total_frames) * 100\n",
    "    p_percentage = (p_frames / total_frames) * 100\n",
    "    b_percentage = (b_frames / total_frames) * 100\n",
    "\n",
    "    return {\n",
    "        'I_frames': i_frames,\n",
    "        'P_frames': p_frames,\n",
    "        'B_frames': b_frames,\n",
    "        'I_percentage': i_percentage,\n",
    "        'P_percentage': p_percentage,\n",
    "        'B_percentage': b_percentage\n",
    "    }\n",
    "\n",
    "# Path to your video file\n",
    "video_path = r\"D:\\college - sem 7\\iva\\videoplayback.mp4\"\n",
    "\n",
    "# Get frame count and percentages\n",
    "frame_info = count_frames(video_path)\n",
    "print(frame_info)\n"
   ]
  },
  {
   "cell_type": "markdown",
   "id": "3a3b19f2-7fb0-4d7f-88fd-361ba5b65a31",
   "metadata": {},
   "source": [
    "#### 2.\tAnalyze Frame Distribution:\n",
    "#### o\tPlot the distribution of frame types using a library like matplotlib.\n",
    "#### o\tPlot a pie chart or bar graph showing the distribution of frame types using matplotlib."
   ]
  },
  {
   "cell_type": "code",
   "execution_count": 57,
   "id": "ab3f00ac-b574-403a-97de-66ae65991369",
   "metadata": {},
   "outputs": [
    {
     "data": {
      "image/png": "[encoded data removed]",
      "text/plain": [
       "<Figure size 1400x700 with 2 Axes>"
      ]
     },
     "metadata": {},
     "output_type": "display_data"
    }
   ],
   "source": [
    "import ffmpeg\n",
    "import matplotlib.pyplot as plt\n",
    "\n",
    "def count_frames(video_path):\n",
    "    # Run ffmpeg command to get frame types\n",
    "    result = ffmpeg.probe(video_path, select_streams='v', show_frames=None)\n",
    "    frames = result['frames']\n",
    "\n",
    "    # Initialize counters\n",
    "    i_frames = 0\n",
    "    p_frames = 0\n",
    "    b_frames = 0\n",
    "\n",
    "    # Count frames\n",
    "    for frame in frames:\n",
    "        if frame['pict_type'] == 'I':\n",
    "            i_frames += 1\n",
    "        elif frame['pict_type'] == 'P':\n",
    "            p_frames += 1\n",
    "        elif frame['pict_type'] == 'B':\n",
    "            b_frames += 1\n",
    "\n",
    "    # Calculate total frames and percentages\n",
    "    total_frames = i_frames + p_frames + b_frames\n",
    "    i_percentage = (i_frames / total_frames) * 100\n",
    "    p_percentage = (p_frames / total_frames) * 100\n",
    "    b_percentage = (b_frames / total_frames) * 100\n",
    "\n",
    "    return {\n",
    "        'I_frames': i_frames,\n",
    "        'P_frames': p_frames,\n",
    "        'B_frames': b_frames,\n",
    "        'I_percentage': i_percentage,\n",
    "        'P_percentage': p_percentage,\n",
    "        'B_percentage': b_percentage\n",
    "    }\n",
    "\n",
    "def plot_frame_distribution(frame_info):\n",
    "    # Data for plotting\n",
    "    labels = ['I-Frames', 'P-Frames', 'B-Frames']\n",
    "    sizes = [frame_info['I_frames'], frame_info['P_frames'], frame_info['B_frames']]\n",
    "    percentages = [frame_info['I_percentage'], frame_info['P_percentage'], frame_info['B_percentage']]\n",
    "    colors = ['gold', 'lightcoral', 'lightskyblue']\n",
    "\n",
    "    # Plot Pie Chart\n",
    "    plt.figure(figsize=(14, 7))\n",
    "    plt.subplot(1, 2, 1)\n",
    "    plt.pie(sizes, labels=labels, autopct='%1.1f%%', colors=colors, startangle=140)\n",
    "    plt.axis('equal')  # Equal aspect ratio ensures that pie is drawn as a circle.\n",
    "    plt.title('Distribution of Frame Types (Pie Chart)')\n",
    "\n",
    "    # Plot Bar Graph\n",
    "    plt.subplot(1, 2, 2)\n",
    "    plt.bar(labels, sizes, color=colors)\n",
    "    plt.title('Distribution of Frame Types (Bar Graph)')\n",
    "    plt.xlabel('Frame Types')\n",
    "    plt.ylabel('Count')\n",
    "\n",
    "    plt.tight_layout()\n",
    "    plt.show()\n",
    "\n",
    "# Path to your video file\n",
    "video_path = r\"D:\\college - sem 7\\iva\\videoplayback.mp4\"\n",
    "\n",
    "# Get frame count and percentages\n",
    "frame_info = count_frames(video_path)\n",
    "\n",
    "# Plot the frame distribution\n",
    "plot_frame_distribution(frame_info)"
   ]
  },
  {
   "cell_type": "markdown",
   "id": "b439e252-a39b-4483-8c34-b84da1dd9ccc",
   "metadata": {},
   "source": [
    "# Lab Task 3: Visualizing Frames"
   ]
  },
  {
   "cell_type": "markdown",
   "id": "7c403390-8093-4113-aabb-ba99405c2758",
   "metadata": {},
   "source": [
    "### **Objective**: Extract actual frames from the video and display them using Python."
   ]
  },
  {
   "cell_type": "markdown",
   "id": "59c510d4-04fd-473e-839e-e514d70394cd",
   "metadata": {},
   "source": [
    "### Steps:\n",
    "#### 1.\tExtract Frames:\n",
    "#### o\tUse ffmpeg to extract individual I, P, and B frames from the video.\n",
    "#### o\tSave these frames as image files."
   ]
  },
  {
   "cell_type": "code",
   "execution_count": 61,
   "id": "849b5176-b05c-4087-987c-bcf4bde7d618",
   "metadata": {},
   "outputs": [],
   "source": [
    "import subprocess\n",
    "import os\n",
    "\n",
    "def extract_frames(video_path, output_dir):\n",
    "    # Ensure the output directory exists\n",
    "    if not os.path.exists(output_dir):\n",
    "        os.makedirs(output_dir)\n",
    "\n",
    "    # FFmpeg command to extract frames\n",
    "    cmd_i = [\n",
    "        'ffmpeg', '-i', video_path, '-vf', 'select=eq(pict_type\\\\,I)', '-vsync', 'vfr',\n",
    "        os.path.join(output_dir, 'I_frame_%04d.png')\n",
    "    ]\n",
    "    cmd_p = [\n",
    "        'ffmpeg', '-i', video_path, '-vf', 'select=eq(pict_type\\\\,P)', '-vsync', 'vfr',\n",
    "        os.path.join(output_dir, 'P_frame_%04d.png')\n",
    "    ]\n",
    "    cmd_b = [\n",
    "        'ffmpeg', '-i', video_path, '-vf', 'select=eq(pict_type\\\\,B)', '-vsync', 'vfr',\n",
    "        os.path.join(output_dir, 'B_frame_%04d.png')\n",
    "    ]\n",
    "\n",
    "    # Execute FFmpeg commands\n",
    "    subprocess.run(cmd_i)\n",
    "    subprocess.run(cmd_p)\n",
    "    subprocess.run(cmd_b)\n",
    "\n",
    "# Path to your video file\n",
    "video_path = r\"D:\\college - sem 7\\iva\\videoplayback.mp4\"\n",
    "# Directory where extracted frames will be saved\n",
    "output_dir = r\"D:\\college - sem 7\\iva\\ivv\"\n",
    "\n",
    "# Extract frames\n",
    "extract_frames(video_path, output_dir)"
   ]
  },
  {
   "cell_type": "markdown",
   "id": "811e9c10-738e-4480-a232-e1d90c972a15",
   "metadata": {},
   "source": [
    "#### 2.\tDisplay Frames:\n",
    "#### o\tUse a library like PIL (Pillow) or opencv-python to display the extracted frames.\n",
    "#### Tasks:\n",
    "#### 1. Save I, P, and B frames as separate image files using ffmpeg.\n",
    "#### 2. Use PIL or opencv-python to load and display these frames in a Python script.\n",
    "#### 3. Compare the visual quality of I, P, and B frames..\r\n",
    "s.\r\n"
   ]
  },
  {
   "cell_type": "code",
   "execution_count": 72,
   "id": "1d666e47-80d4-46ba-b5b0-e4931004012a",
   "metadata": {},
   "outputs": [],
   "source": [
    "import subprocess\n",
    "import os\n",
    "from PIL import Image\n",
    "import cv2\n",
    "import glob\n",
    "\n",
    "def extract_frames(video_path, output_dir):\n",
    "    # Ensure the output directory exists\n",
    "    if not os.path.exists(output_dir):\n",
    "        os.makedirs(output_dir)\n",
    "\n",
    "    # FFmpeg command to extract frames\n",
    "    cmd_i = [\n",
    "        'ffmpeg', '-i', video_path, '-vf', 'select=eq(pict_type\\\\,I)', '-vsync', 'vfr',\n",
    "        os.path.join(output_dir, 'I_frame_%04d.png')\n",
    "    ]\n",
    "    cmd_p = [\n",
    "        'ffmpeg', '-i', video_path, '-vf', 'select=eq(pict_type\\\\,P)', '-vsync', 'vfr',\n",
    "        os.path.join(output_dir, 'P_frame_%04d.png')\n",
    "    ]\n",
    "    cmd_b = [\n",
    "        'ffmpeg', '-i', video_path, '-vf', 'select=eq(pict_type\\\\,B)', '-vsync', 'vfr',\n",
    "        os.path.join(output_dir, 'B_frame_%04d.png')\n",
    "    ]\n",
    "\n",
    "    # Execute FFmpeg commands\n",
    "    subprocess.run(cmd_i)\n",
    "    subprocess.run(cmd_p)\n",
    "    subprocess.run(cmd_b)\n",
    "\n",
    "def display_frames(output_dir, frame_type):\n",
    "    # Find all frame files\n",
    "    frame_files = sorted(glob.glob(os.path.join(output_dir, f'{frame_type}_frame_*.png')))\n",
    "\n",
    "    for frame_file in frame_files:\n",
    "        # Load and display frame using OpenCV\n",
    "        img = cv2.imread(frame_file)\n",
    "        cv2.imshow(f'{frame_type} Frame', img)\n",
    "        cv2.waitKey(500)  # Display each frame for 500 milliseconds\n",
    "\n",
    "    cv2.destroyAllWindows()\n",
    "\n",
    "# Path to your video file\n",
    "video_path = r\"D:\\college - sem 7\\iva\\videoplayback.mp4\"\n",
    "# Directory where extracted frames will be saved\n",
    "output_dir = r\"D:\\college - sem 7\\iva\\ivv\"\n",
    "\n",
    "# Extract frames\n",
    "extract_frames(video_path, output_dir)\n",
    "\n",
    "# Display extracted frames\n",
    "display_frames(output_dir, 'I')\n",
    "display_frames(output_dir, 'P')\n",
    "display_frames(output_dir, 'B')"
   ]
  },
  {
   "cell_type": "markdown",
   "id": "84bb13c0-15c8-49b5-88cf-557b49defa35",
   "metadata": {},
   "source": [
    "# Lab Task 4: Frame Compression Analysis"
   ]
  },
  {
   "cell_type": "markdown",
   "id": "db1ef91b-0fcd-4f9d-b232-79512cdce1ae",
   "metadata": {},
   "source": [
    "### **Objective**: Analyze the compression efficiency of I, P, and B frames."
   ]
  },
  {
   "cell_type": "markdown",
   "id": "477fc5f3-ed17-44b3-90f9-31573d923f2b",
   "metadata": {},
   "source": [
    "### Steps:\n",
    "#### 1.\tCalculate Frame Sizes:\n",
    "#### o\tCalculate the file sizes of extracted I, P, and B frames.\n",
    "#### o\tCompare the average file sizes of each frame type."
   ]
  },
  {
   "cell_type": "code",
   "execution_count": 65,
   "id": "7776097e-8dbe-4c54-a888-b781b37d1bc0",
   "metadata": {},
   "outputs": [
    {
     "name": "stdout",
     "output_type": "stream",
     "text": [
      "Average I-frame size: 296084.8888888889 bytes\n",
      "Average P-frame size: 416751.63181818184 bytes\n",
      "Average B-frame size: 0 bytes\n"
     ]
    }
   ],
   "source": [
    "import subprocess\n",
    "import os\n",
    "import glob\n",
    "import cv2\n",
    "import numpy as np\n",
    "\n",
    "def extract_frames(video_path, output_dir):\n",
    "    # Ensure the output directory exists\n",
    "    if not os.path.exists(output_dir):\n",
    "        os.makedirs(output_dir)\n",
    "\n",
    "    # FFmpeg command to extract frames\n",
    "    cmd_i = [\n",
    "        'ffmpeg', '-i', video_path, '-vf', 'select=eq(pict_type\\\\,I)', '-vsync', 'vfr',\n",
    "        os.path.join(output_dir, 'I_frame_%04d.png')\n",
    "    ]\n",
    "    cmd_p = [\n",
    "        'ffmpeg', '-i', video_path, '-vf', 'select=eq(pict_type\\\\,P)', '-vsync', 'vfr',\n",
    "        os.path.join(output_dir, 'P_frame_%04d.png')\n",
    "    ]\n",
    "    cmd_b = [\n",
    "        'ffmpeg', '-i', video_path, '-vf', 'select=eq(pict_type\\\\,B)', '-vsync', 'vfr',\n",
    "        os.path.join(output_dir, 'B_frame_%04d.png')\n",
    "    ]\n",
    "\n",
    "    # Execute FFmpeg commands\n",
    "    subprocess.run(cmd_i)\n",
    "    subprocess.run(cmd_p)\n",
    "    subprocess.run(cmd_b)\n",
    "\n",
    "def get_frame_file_sizes(output_dir, frame_type):\n",
    "    # Find all frame files\n",
    "    frame_files = sorted(glob.glob(os.path.join(output_dir, f'{frame_type}_frame_*.png')))\n",
    "    file_sizes = []\n",
    "\n",
    "    for frame_file in frame_files:\n",
    "        # Get the file size in bytes\n",
    "        file_size = os.path.getsize(frame_file)\n",
    "        file_sizes.append(file_size)\n",
    "\n",
    "    return file_sizes\n",
    "\n",
    "def display_frames(output_dir, frame_type):\n",
    "    # Find all frame files\n",
    "    frame_files = sorted(glob.glob(os.path.join(output_dir, f'{frame_type}_frame_*.png')))\n",
    "\n",
    "    for frame_file in frame_files:\n",
    "        # Load and display frame using OpenCV\n",
    "        img = cv2.imread(frame_file)\n",
    "        cv2.imshow(f'{frame_type} Frame', img)\n",
    "        cv2.waitKey(500)  # Display each frame for 500 milliseconds\n",
    "\n",
    "    cv2.destroyAllWindows()\n",
    "\n",
    "def calculate_average_size(file_sizes):\n",
    "    if file_sizes:\n",
    "        return sum(file_sizes) / len(file_sizes)\n",
    "    return 0\n",
    "\n",
    "# Path to your video file\n",
    "video_path = r\"D:\\college - sem 7\\iva\\videoplayback.mp4\"\n",
    "# Directory where extracted frames will be saved\n",
    "output_dir = r\"D:\\college - sem 7\\iva\\ivv\"\n",
    "\n",
    "# Extract frames\n",
    "extract_frames(video_path, output_dir)\n",
    "\n",
    "# Get file sizes\n",
    "i_frame_sizes = get_frame_file_sizes(output_dir, 'I')\n",
    "p_frame_sizes = get_frame_file_sizes(output_dir, 'P')\n",
    "b_frame_sizes = get_frame_file_sizes(output_dir, 'B')\n",
    "\n",
    "# Calculate average sizes\n",
    "average_i_size = calculate_average_size(i_frame_sizes)\n",
    "average_p_size = calculate_average_size(p_frame_sizes)\n",
    "average_b_size = calculate_average_size(b_frame_sizes)\n",
    "\n",
    "# Print the average sizes\n",
    "print(f'Average I-frame size: {average_i_size} bytes')\n",
    "print(f'Average P-frame size: {average_p_size} bytes')\n",
    "print(f'Average B-frame size: {average_b_size} bytes')\n",
    "\n",
    "# Display extracted frames (Optional)\n",
    "display_frames(output_dir, 'I')\n",
    "display_frames(output_dir, 'P')\n",
    "display_frames(output_dir, 'B')\n"
   ]
  },
  {
   "cell_type": "markdown",
   "id": "243cc8e8-8fed-4ad6-8c4e-814c7135ec60",
   "metadata": {},
   "source": [
    "# Lab Task 5: Advanced Frame Extraction"
   ]
  },
  {
   "cell_type": "markdown",
   "id": "6310af6a-5359-4a85-bc96-f45d8e09646d",
   "metadata": {},
   "source": [
    "### **Objective**: Extract frames from a video and reconstruct a part of the video using only I frames."
   ]
  },
  {
   "cell_type": "markdown",
   "id": "b1bf5a04-3dce-4637-9888-6fb3f39d33cd",
   "metadata": {},
   "source": [
    "### Steps:\n",
    "#### 1.\tExtract and Save I Frames:\n",
    "#### o\tExtract I frames from the video and save them as separate image files."
   ]
  },
  {
   "cell_type": "code",
   "execution_count": 67,
   "id": "b0a9fb48-3143-4f98-b3a9-b5dec78b76cb",
   "metadata": {},
   "outputs": [],
   "source": [
    "import subprocess\n",
    "import os\n",
    "\n",
    "def extract_i_frames(video_path, output_dir):\n",
    "    # Ensure the output directory exists\n",
    "    if not os.path.exists(output_dir):\n",
    "        os.makedirs(output_dir)\n",
    "\n",
    "    # FFmpeg command to extract I-frames\n",
    "    cmd = [\n",
    "        'ffmpeg', '-i', video_path, '-vf', 'select=eq(pict_type\\\\,I)', '-vsync', 'vfr',\n",
    "        os.path.join(output_dir, 'I_frame_%04d.png')\n",
    "    ]\n",
    "\n",
    "    # Execute FFmpeg command\n",
    "    subprocess.run(cmd)\n",
    "\n",
    "# Path to your video file\n",
    "video_path = r\"D:\\college - sem 7\\iva\\videoplayback.mp4\"\n",
    "# Directory where extracted frames will be saved\n",
    "output_dir = r\"D:\\college - sem 7\\iva\\ivv\\i-frames\"\n",
    "\n",
    "# Extract I-frames\n",
    "extract_i_frames(video_path, output_dir)"
   ]
  },
  {
   "cell_type": "markdown",
   "id": "95f8641f-4cf3-43cc-863f-5ea20652bdb4",
   "metadata": {},
   "source": [
    "#### 2.\tReconstruct Video:\n",
    "#### o Use the extracted I frames to reconstruct a portion of the video.\n",
    "#### o Create a new video using these I frames with a reduced frame rate."
   ]
  },
  {
   "cell_type": "code",
   "execution_count": 69,
   "id": "724a6c29-aa98-4a19-a84d-9314f06216cb",
   "metadata": {},
   "outputs": [],
   "source": [
    "import subprocess\n",
    "import os\n",
    "\n",
    "def extract_i_frames(video_path, output_dir):\n",
    "    # Ensure the output directory exists\n",
    "    if not os.path.exists(output_dir):\n",
    "        os.makedirs(output_dir)\n",
    "\n",
    "    # FFmpeg command to extract I-frames\n",
    "    cmd = [\n",
    "        'ffmpeg', '-i', video_path, '-vf', 'select=eq(pict_type\\\\,I)', '-vsync', 'vfr',\n",
    "        os.path.join(output_dir, 'I_frame_%04d.png')\n",
    "    ]\n",
    "\n",
    "    # Execute FFmpeg command\n",
    "    subprocess.run(cmd)\n",
    "\n",
    "def reconstruct_video_from_i_frames(output_dir, output_video_path, frame_rate=1):\n",
    "    # FFmpeg command to create a video from extracted I-frames\n",
    "    cmd = [\n",
    "        'ffmpeg', '-framerate', str(frame_rate), '-i',\n",
    "        os.path.join(output_dir, 'I_frame_%04d.png'), '-c:v', 'libx264',\n",
    "        '-pix_fmt', 'yuv420p', output_video_path\n",
    "    ]\n",
    "\n",
    "    # Execute FFmpeg command\n",
    "    subprocess.run(cmd)\n",
    "\n",
    "# Path to your video file\n",
    "video_path = r\"D:\\college - sem 7\\iva\\videoplayback.mp4\"\n",
    "# Directory where extracted frames will be saved\n",
    "output_dir = r\"D:\\college - sem 7\\iva\\ivv\\i-frames\"\n",
    "# Path for the reconstructed video\n",
    "output_video_path = r\"D:\\college - sem 7\\iva\\ivv\\i-frames\\video.mp4\"\n",
    "# Desired frame rate for the reconstructed video\n",
    "frame_rate = 1  # Adjust the frame rate as needed\n",
    "\n",
    "# Extract I-frames\n",
    "extract_i_frames(video_path, output_dir)\n",
    "\n",
    "# Reconstruct video from I-frames\n",
    "reconstruct_video_from_i_frames(output_dir, output_video_path, frame_rate)"
   ]
  },
  {
   "cell_type": "code",
   "execution_count": null,
   "id": "30441faf-491c-47c9-a06a-0c4de28fd4b8",
   "metadata": {},
   "outputs": [],
   "source": []
  }
 ],
 "metadata": {
  "kernelspec": {
   "display_name": "Python 3 (ipykernel)",
   "language": "python",
   "name": "python3"
  },
  "language_info": {
   "codemirror_mode": {
    "name": "ipython",
    "version": 3
   },
   "file_extension": ".py",
   "mimetype": "text/x-python",
   "name": "python",
   "nbconvert_exporter": "python",
   "pygments_lexer": "ipython3",
   "version": "3.12.4"
  }
 },
 "nbformat": 4,
 "nbformat_minor": 5
}
